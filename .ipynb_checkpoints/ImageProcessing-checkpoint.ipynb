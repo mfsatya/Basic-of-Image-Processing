{
 "cells": [
  {
   "cell_type": "code",
   "execution_count": 1,
   "metadata": {},
   "outputs": [],
   "source": [
    "import numpy as np\n",
    "import cv2\n",
    "import tkinter \n",
    "import PIL.Image, PIL.ImageTk\n",
    "from tkinter import filedialog"
   ]
  },
  {
   "cell_type": "code",
   "execution_count": 2,
   "metadata": {},
   "outputs": [],
   "source": [
    "# Create GUI Window\n",
    "window = tkinter.Tk()"
   ]
  },
  {
   "cell_type": "code",
   "execution_count": 3,
   "metadata": {},
   "outputs": [],
   "source": [
    "# Function for insert image when clik the button\n",
    "window.filename = \"\"\n",
    "def InsertImage():\n",
    "    # Load image from button using OpenCV\n",
    "    window.filename =  filedialog.askopenfilename(initialdir = \"/\",title = \"Select file\",filetypes = ((\"all files\",\"*.*\"), (\"jpeg files\",\"*.jpg\")))\n",
    "    img = cv2.imread(window.filename)[...,::-1]#OpenCV Use BGR COLOR\n",
    "    img = cv2.resize(img, (1366,768), interpolation = cv2.INTER_AREA)\n",
    "    \n",
    "    # Convert Numpy array to Image\n",
    "    Image = PIL.ImageTk.PhotoImage(image = PIL.Image.fromarray(img))\n",
    "    \n",
    "    # Delete image from previous canvas (if available), then add the new image\n",
    "    C.delete(\"all\")\n",
    "    C.create_image(0, 0, image = Image, anchor=tkinter.NW)\n",
    "    window.mainloop()\n",
    "    \n",
    "# Function to find dominant color \n",
    "def findDominantRGBColor():\n",
    "    # Load selected image\n",
    "    img = cv2.imread(window.filename)[...,::-1]#OpenCV Use BGR COLOR\n",
    "    img = cv2.resize(img, (1366,768), interpolation = cv2.INTER_AREA)\n",
    "    img_arr = np.asarray(img)\n",
    "    \n",
    "    #get RGB array\n",
    "    R = img_arr[:, :, 0]\n",
    "    G = img_arr[:, :, 1]\n",
    "    B = img_arr[:, :, 2]\n",
    "    \n",
    "    #sum all binary digit from each color\n",
    "    sumR = []\n",
    "    sumG = []\n",
    "    sumB = []\n",
    "    for i in R:\n",
    "        sumR.append(sum(i))\n",
    "    for i in G:\n",
    "        sumG.append(sum(i))\n",
    "    for i in B:\n",
    "        sumB.append(sum(i))\n",
    "    \n",
    "    #return all sum of binary digit of each color\n",
    "    return sum(sumR),sum(sumG),sum(sumB)\n",
    "\n",
    "# Grayscale The Image\n",
    "def grayscale():\n",
    "     # Load selected image\n",
    "    img = cv2.imread(window.filename)[...,::-1]#OpenCV Use BGR COLOR\n",
    "    img = cv2.resize(img, (1366,768), interpolation = cv2.INTER_AREA)\n",
    "    img_arr = np.asarray(img)\n",
    "    \n",
    "    # Get RGB array\n",
    "    R = img_arr[:, :, 0]\n",
    "    G = img_arr[:, :, 1]\n",
    "    B = img_arr[:, :, 2]\n",
    "    \n",
    "    # Find most dominant color in RGB\n",
    "    Rv,Gv,Bv = findDominantRGBColor()\n",
    "    # If Red is dominant use R:0.6, G:0.2, B:0.2 Ratio for Grayscale\n",
    "    if ((Rv > Gv) & (Rv > Bv)):\n",
    "        arr_gray = (R.astype(int)*0.6) + (G.astype(int)*0.2) + (B.astype(int)*0.2)\n",
    "    # If Green is dominant use R:0.2, G:0.6, B:0.2 Ratio for Grayscale\n",
    "    elif ((Gv > Rv) & (Gv > Bv)):\n",
    "        arr_gray = (R.astype(int)*0.2) + (G.astype(int)*0.6) + (B.astype(int)*0.2)\n",
    "    # If Blue is dominant use R:0.2, G:0.2, B:0.6 Ratio for Grayscale\n",
    "    else:\n",
    "        arr_gray = (R.astype(int)*0.2) + (G.astype(int)*0.2) + (B.astype(int)*0.6)\n",
    "    arr_gray.astype(\"uint8\")#turn type back\n",
    "    \n",
    "    #create new image from Gray array\n",
    "    from PIL import Image\n",
    "    im = Image.fromarray(arr_gray)\n",
    "    im = im.convert(\"RGB\")\n",
    "    \n",
    "    # Convert Numpy array to Image\n",
    "    Image = PIL.ImageTk.PhotoImage(image = im)\n",
    "    \n",
    "    # Delete image from previous canvas (if available), then add the new image\n",
    "    C.delete(\"all\")\n",
    "    C.create_image(0, 0, image = Image, anchor=tkinter.NW)\n",
    "    window.mainloop()"
   ]
  },
  {
   "cell_type": "code",
   "execution_count": 4,
   "metadata": {},
   "outputs": [],
   "source": [
    "# Create Canvas\n",
    "C = tkinter.Canvas(window, width = 1366, height = 768)\n",
    "C.pack()\n",
    "\n",
    "# Create Button to sellect file (Tugas 1)\n",
    "B1 = tkinter.Button(window, text =\"Insert Image Here\", command = InsertImage)\n",
    "B1.pack()\n",
    "\n",
    "# Create Button to make Image Black and white (Tugas 2)\n",
    "B2 = tkinter.Button(window, text =\"Grayscale The Image\", command = grayscale)\n",
    "B2.pack()"
   ]
  },
  {
   "cell_type": "code",
   "execution_count": null,
   "metadata": {
    "scrolled": true
   },
   "outputs": [],
   "source": [
    "#Load GUI\n",
    "window.mainloop()"
   ]
  },
  {
   "cell_type": "code",
   "execution_count": null,
   "metadata": {},
   "outputs": [],
   "source": []
  },
  {
   "cell_type": "code",
   "execution_count": null,
   "metadata": {},
   "outputs": [],
   "source": []
  }
 ],
 "metadata": {
  "kernelspec": {
   "display_name": "Python 3",
   "language": "python",
   "name": "python3"
  },
  "language_info": {
   "codemirror_mode": {
    "name": "ipython",
    "version": 3
   },
   "file_extension": ".py",
   "mimetype": "text/x-python",
   "name": "python",
   "nbconvert_exporter": "python",
   "pygments_lexer": "ipython3",
   "version": "3.7.1"
  }
 },
 "nbformat": 4,
 "nbformat_minor": 2
}
