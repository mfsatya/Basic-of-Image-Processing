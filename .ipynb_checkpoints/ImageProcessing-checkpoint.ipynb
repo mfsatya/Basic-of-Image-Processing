{
 "cells": [
  {
   "cell_type": "code",
   "execution_count": 52,
   "metadata": {},
   "outputs": [],
   "source": [
    "import numpy as np\n",
    "import cv2\n",
    "import tkinter \n",
    "import PIL.Image, PIL.ImageTk\n",
    "from tkinter import filedialog"
   ]
  },
  {
   "cell_type": "code",
   "execution_count": 53,
   "metadata": {},
   "outputs": [],
   "source": [
    "# Create GUI Window\n",
    "window = tkinter.Tk()"
   ]
  },
  {
   "cell_type": "code",
   "execution_count": 54,
   "metadata": {},
   "outputs": [],
   "source": [
    "# Function for insert image when clik the button\n",
    "def InsertImage():\n",
    "    # Load image from button using OpenCV\n",
    "    window.filename =  filedialog.askopenfilename(initialdir = \"/\",title = \"Select file\",filetypes = ((\"jpeg files\",\"*.jpg\"),(\"all files\",\"*.*\")))\n",
    "    img = cv2.imread(window.filename)[...,::-1]#OpenCV Use BGR COLOR\n",
    "    img = cv2.resize(img, (1366,768), interpolation = cv2.INTER_AREA)\n",
    "    \n",
    "    # Get the image dimensions\n",
    "    height, width, no_channels = img.shape\n",
    "    \n",
    "    # Convert Numpy array to Image\n",
    "    Image = PIL.ImageTk.PhotoImage(image = PIL.Image.fromarray(img))\n",
    "    \n",
    "    # Delete image from previous canvas (if available), then add the new image\n",
    "    C.delete(\"all\")\n",
    "    C.create_image(0, 0, image = Image, anchor=tkinter.NW)\n",
    "    window.mainloop()"
   ]
  },
  {
   "cell_type": "code",
   "execution_count": 55,
   "metadata": {},
   "outputs": [],
   "source": [
    "# Create Canvas\n",
    "C = tkinter.Canvas(window, width = 1366, height = 768)\n",
    "C.pack()\n",
    "# Create Button to sellect file (Tugas 1)\n",
    "B = tkinter.Button(window, text =\"Insert Image Here\", command = InsertImage)\n",
    "B.pack()"
   ]
  },
  {
   "cell_type": "code",
   "execution_count": 56,
   "metadata": {
    "scrolled": true
   },
   "outputs": [],
   "source": [
    "#Load GUI\n",
    "window.mainloop()"
   ]
  },
  {
   "cell_type": "code",
   "execution_count": null,
   "metadata": {},
   "outputs": [],
   "source": []
  }
 ],
 "metadata": {
  "kernelspec": {
   "display_name": "Python 3",
   "language": "python",
   "name": "python3"
  },
  "language_info": {
   "codemirror_mode": {
    "name": "ipython",
    "version": 3
   },
   "file_extension": ".py",
   "mimetype": "text/x-python",
   "name": "python",
   "nbconvert_exporter": "python",
   "pygments_lexer": "ipython3",
   "version": "3.7.1"
  }
 },
 "nbformat": 4,
 "nbformat_minor": 2
}
